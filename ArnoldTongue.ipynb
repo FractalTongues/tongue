{
 "cells": [
  {
   "cell_type": "code",
   "execution_count": null,
   "id": "6b42801e-35e0-498e-a601-33ed594a3f42",
   "metadata": {},
   "outputs": [],
   "source": [
    "(* Related MSE posts *)\n",
    "\n",
    "(* https://mathematica.stackexchange.com/questions/56499/the-winding-number-for-the-circle-map-arnold-tongue *)\n",
    "(* https://mathematica.stackexchange.com/questions/289201/plotting-arnold-tongues/289245#289245 *)"
   ]
  },
  {
   "cell_type": "markdown",
   "id": "1cad5b8d-437d-4d7f-a882-5763800f4dc1",
   "metadata": {},
   "source": [
    "# SRC"
   ]
  },
  {
   "cell_type": "code",
   "execution_count": null,
   "id": "f9c5fa75-ac4e-4bcd-aa19-9482ac951aee",
   "metadata": {},
   "outputs": [],
   "source": [
    "(* Set number of threads *)\n",
    "\n",
    "SetSystemOptions[\"ParallelOptions\" -> {\"ParallelThreadNumber\" -> 32}] ;\n",
    "\n",
    "(* Set compiler options *)\n",
    "\n",
    "Get[\"CCompilerDriver`\"] ;\n",
    "Compiler`$CCompilerOptions = {\"SystemCompileOptions\" -> \"-O3 -ffast-math -march=native\"} ;\n",
    "\n",
    "(* Set compilation target (use \"WVM\" if no compiler is avaliable ) *)\n",
    "\n",
    "ClearAll[target] ;\n",
    "target = \"C\" ;\n",
    "\n",
    "(* Winding number computation using weighted Birkhoff average *)\n",
    "\n",
    "meshgrid[x_List, y_List] := Developer`ToPackedArray@{ConstantArray[x, Length[y]], Transpose[ConstantArray[y, Length[x]]]} ;\n",
    "\n",
    "(* Analytical filter *)\n",
    "\n",
    "ClearAll[filter] ;\n",
    "filter[order_, size_][1]     := 0.0 ;\n",
    "filter[order_, size_][size_] := 0.0 ;\n",
    "filter[order_, size_][i_]    := N[$MachineEpsilon + Exp[-(1/((1 - (-1 + i)/(-1 + size))^order*((-1 + i)/(-1 + size))^order))]] ;\n",
    "\n",
    "(* Winding number computation *)\n",
    "\n",
    "ClearAll[winding$number$birkhoff];\n",
    "winding$number$birkhoff = Compile[\n",
    "    {\n",
    "        {window, _Real, 1}, \n",
    "        {eta, _Real}, \n",
    "        {epsilon, _Real}, \n",
    "        {phi, _Real}\n",
    "    },\n",
    "   Block[{size, result = 0.0, this = phi, next},\n",
    "        size = Length[window];\n",
    "        Do[\n",
    "            next = this + eta + epsilon * Sin[this];\n",
    "            result += window[[i]] * (next - this) ;\n",
    "            this = next,\n",
    "            {i, 1, size}\n",
    "        ] ;\n",
    "        result/(2*Pi)\n",
    "    ],\n",
    "    RuntimeAttributes -> {Listable},\n",
    "    Parallelization -> True,\n",
    "    CompilationTarget -> target,\n",
    "    CompilationOptions -> {\"ExpressionOptimization\" -> True, \"InlineExternalDefinitions\" -> True},\n",
    "    RuntimeOptions -> \"Speed\"\n",
    "] ;"
   ]
  },
  {
   "cell_type": "code",
   "execution_count": null,
   "id": "9ed8c084-1ac1-4dbf-a68b-9fcaccde7ae7",
   "metadata": {},
   "outputs": [],
   "source": [
    "<< CompiledFunctionTools`\n",
    "\n",
    "CompilePrint[winding$number$birkhoff]"
   ]
  },
  {
   "cell_type": "markdown",
   "id": "465ab9a5-48a4-4f11-8134-cdb5fa93547b",
   "metadata": {},
   "source": [
    "# Fixed initial"
   ]
  },
  {
   "cell_type": "code",
   "execution_count": null,
   "id": "6eb1b658-ef62-42ed-8037-9ef6174bbac1",
   "metadata": {},
   "outputs": [],
   "source": [
    "(* Set number of iterations and grid size *)\n",
    "\n",
    "n = 10^3 ;\n",
    "m = 2001 ;\n",
    "\n",
    "(* Set filter *)\n",
    "\n",
    "window = Quiet[filter[1.0, n] /@ Range[n]] ;\n",
    "window = window/Total[window] ;\n",
    "\n",
    "(* Generate grid *)\n",
    "\n",
    "etas = 2*Pi*Subdivide[0.0, 0.5, m - 1] ;\n",
    "epsilons = 2*Pi*Subdivide[0.0, 1.0, m - 1] ;\n",
    "{etas, epsilons} = meshgrid[etas, epsilons] ;\n",
    "\n",
    "Dimensions[etas]\n",
    "Dimensions[epsilons]\n",
    "\n",
    "(* Set initial *)\n",
    "\n",
    "phi = 0.0 "
   ]
  },
  {
   "cell_type": "code",
   "execution_count": null,
   "id": "fd3d0ade-b224-44fc-88fe-458bf1b8f8bc",
   "metadata": {},
   "outputs": [],
   "source": [
    "(* Compute *)\n",
    "\n",
    "result = Reverse[winding$number$birkhoff[window, etas, epsilons, phi]] ; // AbsoluteTiming\n",
    "Dimensions[result]"
   ]
  },
  {
   "cell_type": "code",
   "execution_count": null,
   "id": "83e87353-72f6-45ad-8fe1-fa13aabbc457",
   "metadata": {},
   "outputs": [],
   "source": [
    "(* Save *)\n",
    "\n",
    "Export[\"fixed.mx\", result] ;"
   ]
  },
  {
   "cell_type": "code",
   "execution_count": null,
   "id": "e19b23aa-267a-4c71-8893-90e88901d8b9",
   "metadata": {},
   "outputs": [],
   "source": [
    "(* Plot *)\n",
    "\n",
    "ArrayPlot[\n",
    " \tresult, \n",
    " \tFrame -> False, \n",
    " \tImageSize -> 800, \n",
    " \tAspectRatio -> 1, \n",
    " \tPlotRangePadding -> None,\n",
    " \tColorFunction -> (Blend[{Black, Blue, Green, Yellow, Red}, #] &), \n",
    " \tColorFunctionScaling -> False\n",
    " ]"
   ]
  },
  {
   "cell_type": "markdown",
   "id": "6d4b86e7-5b84-41d6-9e21-9c605809c8da",
   "metadata": {},
   "source": [
    "# Averaged over random initials"
   ]
  },
  {
   "cell_type": "code",
   "execution_count": null,
   "id": "bf38be8c-938d-4278-bb23-9f37ad36f8d8",
   "metadata": {},
   "outputs": [],
   "source": [
    "(* Set number of iterations and grid size *)\n",
    "\n",
    "n = 10^3 ;\n",
    "m = 2001 ;\n",
    "\n",
    "(* Set filter *)\n",
    "\n",
    "window = Quiet[filter[1.0, n] /@ Range[n]] ;\n",
    "window = window/Total[window] ;\n",
    "\n",
    "(* Generate grid *)\n",
    "\n",
    "etas = 2*Pi*Subdivide[0.0, 0.5, m - 1] ;\n",
    "epsilons = 2*Pi*Subdivide[0.0, 1.0, m - 1] ;\n",
    "{etas, epsilons} = meshgrid[etas, epsilons] ;\n",
    "\n",
    "(* Set random initials *)\n",
    "\n",
    "phis := RandomVariate[UniformDistribution[{0.0, 2.0*Pi}], Dimensions[etas]] ;\n",
    "\n",
    "Dimensions[etas]\n",
    "Dimensions[epsilons]\n",
    "Dimensions[phis]"
   ]
  },
  {
   "cell_type": "code",
   "execution_count": null,
   "id": "0a1febc7-efe5-4e51-8aa3-2bf47c171932",
   "metadata": {},
   "outputs": [],
   "source": [
    "(* Compute *)\n",
    "\n",
    "count = 1000 ;\n",
    "result = ConstantArray[0.0, {m, m}] ;\n",
    "Do[\n",
    "    result += winding$number$birkhoff[window, etas, epsilons, phis],\n",
    "    {count}\n",
    "] ; // AbsoluteTiming\n",
    "result = Reverse[result]/count ; "
   ]
  },
  {
   "cell_type": "code",
   "execution_count": null,
   "id": "5ffd702b-79c3-40a6-956f-4ce1f61a8263",
   "metadata": {},
   "outputs": [],
   "source": [
    "(* Save *)\n",
    "\n",
    "Export[\"averaged.mx\", result] ;"
   ]
  },
  {
   "cell_type": "code",
   "execution_count": null,
   "id": "0629e269-0576-4e4a-8580-ef56a3d18f19",
   "metadata": {},
   "outputs": [],
   "source": [
    "(* Plot *)\n",
    "\n",
    "ArrayPlot[\n",
    " \tresult, \n",
    " \tFrame -> False, \n",
    " \tImageSize -> 800, \n",
    " \tAspectRatio -> 1, \n",
    " \tPlotRangePadding -> None,\n",
    " \tColorFunction -> (Blend[{Black, Blue, Green, Yellow, Red}, #] &), \n",
    " \tColorFunctionScaling -> False\n",
    " ]"
   ]
  }
 ],
 "metadata": {
  "kernelspec": {
   "display_name": "Wolfram Language 14",
   "language": "Wolfram Language",
   "name": "wolframlanguage14"
  },
  "language_info": {
   "codemirror_mode": "mathematica",
   "file_extension": ".m",
   "mimetype": "application/vnd.wolfram.m",
   "name": "Wolfram Language",
   "pygments_lexer": "mathematica",
   "version": "12.0"
  }
 },
 "nbformat": 4,
 "nbformat_minor": 5
}
